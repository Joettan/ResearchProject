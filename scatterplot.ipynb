{
 "cells": [
  {
   "cell_type": "code",
   "execution_count": 2,
   "metadata": {
    "collapsed": true
   },
   "outputs": [
    {
     "data": {
      "text/html": [
       "<div>\n",
       "<style scoped>\n",
       "    .dataframe tbody tr th:only-of-type {\n",
       "        vertical-align: middle;\n",
       "    }\n",
       "\n",
       "    .dataframe tbody tr th {\n",
       "        vertical-align: top;\n",
       "    }\n",
       "\n",
       "    .dataframe thead th {\n",
       "        text-align: right;\n",
       "    }\n",
       "</style>\n",
       "<table border=\"1\" class=\"dataframe\">\n",
       "  <thead>\n",
       "    <tr style=\"text-align: right;\">\n",
       "      <th></th>\n",
       "      <th>station_key</th>\n",
       "      <th>traffic_count</th>\n",
       "      <th>year</th>\n",
       "      <th>wgs84_latitude</th>\n",
       "      <th>wgs84_longitude</th>\n",
       "    </tr>\n",
       "  </thead>\n",
       "  <tbody>\n",
       "    <tr>\n",
       "      <th>0</th>\n",
       "      <td>58593</td>\n",
       "      <td>9420</td>\n",
       "      <td>2006</td>\n",
       "      <td>-35.913952</td>\n",
       "      <td>145.706635</td>\n",
       "    </tr>\n",
       "    <tr>\n",
       "      <th>1</th>\n",
       "      <td>58307</td>\n",
       "      <td>7724</td>\n",
       "      <td>2006</td>\n",
       "      <td>-35.708405</td>\n",
       "      <td>147.282913</td>\n",
       "    </tr>\n",
       "    <tr>\n",
       "      <th>2</th>\n",
       "      <td>58316</td>\n",
       "      <td>37500</td>\n",
       "      <td>2006</td>\n",
       "      <td>-36.088005</td>\n",
       "      <td>147.036148</td>\n",
       "    </tr>\n",
       "    <tr>\n",
       "      <th>3</th>\n",
       "      <td>56981</td>\n",
       "      <td>495948</td>\n",
       "      <td>2006</td>\n",
       "      <td>-33.929249</td>\n",
       "      <td>150.979050</td>\n",
       "    </tr>\n",
       "    <tr>\n",
       "      <th>4</th>\n",
       "      <td>56392</td>\n",
       "      <td>281840</td>\n",
       "      <td>2006</td>\n",
       "      <td>-34.656460</td>\n",
       "      <td>150.854126</td>\n",
       "    </tr>\n",
       "    <tr>\n",
       "      <th>...</th>\n",
       "      <td>...</td>\n",
       "      <td>...</td>\n",
       "      <td>...</td>\n",
       "      <td>...</td>\n",
       "      <td>...</td>\n",
       "    </tr>\n",
       "    <tr>\n",
       "      <th>7013</th>\n",
       "      <td>15334005</td>\n",
       "      <td>135136</td>\n",
       "      <td>2022</td>\n",
       "      <td>-32.906013</td>\n",
       "      <td>151.671356</td>\n",
       "    </tr>\n",
       "    <tr>\n",
       "      <th>7014</th>\n",
       "      <td>15828011</td>\n",
       "      <td>25922</td>\n",
       "      <td>2022</td>\n",
       "      <td>-34.703720</td>\n",
       "      <td>150.016647</td>\n",
       "    </tr>\n",
       "    <tr>\n",
       "      <th>7015</th>\n",
       "      <td>57440</td>\n",
       "      <td>427232</td>\n",
       "      <td>2022</td>\n",
       "      <td>-33.760658</td>\n",
       "      <td>151.079620</td>\n",
       "    </tr>\n",
       "    <tr>\n",
       "      <th>7016</th>\n",
       "      <td>15934011</td>\n",
       "      <td>52742</td>\n",
       "      <td>2022</td>\n",
       "      <td>-33.616905</td>\n",
       "      <td>150.273621</td>\n",
       "    </tr>\n",
       "    <tr>\n",
       "      <th>7017</th>\n",
       "      <td>15334001</td>\n",
       "      <td>62667</td>\n",
       "      <td>2022</td>\n",
       "      <td>-33.906151</td>\n",
       "      <td>151.040207</td>\n",
       "    </tr>\n",
       "  </tbody>\n",
       "</table>\n",
       "<p>7018 rows × 5 columns</p>\n",
       "</div>"
      ],
      "text/plain": [
       "      station_key  traffic_count  year  wgs84_latitude  wgs84_longitude\n",
       "0           58593           9420  2006      -35.913952       145.706635\n",
       "1           58307           7724  2006      -35.708405       147.282913\n",
       "2           58316          37500  2006      -36.088005       147.036148\n",
       "3           56981         495948  2006      -33.929249       150.979050\n",
       "4           56392         281840  2006      -34.656460       150.854126\n",
       "...           ...            ...   ...             ...              ...\n",
       "7013     15334005         135136  2022      -32.906013       151.671356\n",
       "7014     15828011          25922  2022      -34.703720       150.016647\n",
       "7015        57440         427232  2022      -33.760658       151.079620\n",
       "7016     15934011          52742  2022      -33.616905       150.273621\n",
       "7017     15334001          62667  2022      -33.906151       151.040207\n",
       "\n",
       "[7018 rows x 5 columns]"
      ]
     },
     "execution_count": 1,
     "metadata": {},
     "output_type": "execute_result"
    },
    {
     "data": {
      "text/html": [
       "<div>\n",
       "<style scoped>\n",
       "    .dataframe tbody tr th:only-of-type {\n",
       "        vertical-align: middle;\n",
       "    }\n",
       "\n",
       "    .dataframe tbody tr th {\n",
       "        vertical-align: top;\n",
       "    }\n",
       "\n",
       "    .dataframe thead th {\n",
       "        text-align: right;\n",
       "    }\n",
       "</style>\n",
       "<table border=\"1\" class=\"dataframe\">\n",
       "  <thead>\n",
       "    <tr style=\"text-align: right;\">\n",
       "      <th></th>\n",
       "      <th>station_key</th>\n",
       "      <th>traffic_count</th>\n",
       "      <th>year</th>\n",
       "      <th>wgs84_latitude</th>\n",
       "      <th>wgs84_longitude</th>\n",
       "    </tr>\n",
       "  </thead>\n",
       "  <tbody>\n",
       "    <tr>\n",
       "      <th>0</th>\n",
       "      <td>58593</td>\n",
       "      <td>9420</td>\n",
       "      <td>2006</td>\n",
       "      <td>-35.913952</td>\n",
       "      <td>145.706635</td>\n",
       "    </tr>\n",
       "    <tr>\n",
       "      <th>1</th>\n",
       "      <td>58307</td>\n",
       "      <td>7724</td>\n",
       "      <td>2006</td>\n",
       "      <td>-35.708405</td>\n",
       "      <td>147.282913</td>\n",
       "    </tr>\n",
       "    <tr>\n",
       "      <th>2</th>\n",
       "      <td>58316</td>\n",
       "      <td>37500</td>\n",
       "      <td>2006</td>\n",
       "      <td>-36.088005</td>\n",
       "      <td>147.036148</td>\n",
       "    </tr>\n",
       "    <tr>\n",
       "      <th>3</th>\n",
       "      <td>56981</td>\n",
       "      <td>495948</td>\n",
       "      <td>2006</td>\n",
       "      <td>-33.929249</td>\n",
       "      <td>150.979050</td>\n",
       "    </tr>\n",
       "    <tr>\n",
       "      <th>4</th>\n",
       "      <td>56392</td>\n",
       "      <td>281840</td>\n",
       "      <td>2006</td>\n",
       "      <td>-34.656460</td>\n",
       "      <td>150.854126</td>\n",
       "    </tr>\n",
       "    <tr>\n",
       "      <th>...</th>\n",
       "      <td>...</td>\n",
       "      <td>...</td>\n",
       "      <td>...</td>\n",
       "      <td>...</td>\n",
       "      <td>...</td>\n",
       "    </tr>\n",
       "    <tr>\n",
       "      <th>7013</th>\n",
       "      <td>15334005</td>\n",
       "      <td>135136</td>\n",
       "      <td>2022</td>\n",
       "      <td>-32.906013</td>\n",
       "      <td>151.671356</td>\n",
       "    </tr>\n",
       "    <tr>\n",
       "      <th>7014</th>\n",
       "      <td>15828011</td>\n",
       "      <td>25922</td>\n",
       "      <td>2022</td>\n",
       "      <td>-34.703720</td>\n",
       "      <td>150.016647</td>\n",
       "    </tr>\n",
       "    <tr>\n",
       "      <th>7015</th>\n",
       "      <td>57440</td>\n",
       "      <td>427232</td>\n",
       "      <td>2022</td>\n",
       "      <td>-33.760658</td>\n",
       "      <td>151.079620</td>\n",
       "    </tr>\n",
       "    <tr>\n",
       "      <th>7016</th>\n",
       "      <td>15934011</td>\n",
       "      <td>52742</td>\n",
       "      <td>2022</td>\n",
       "      <td>-33.616905</td>\n",
       "      <td>150.273621</td>\n",
       "    </tr>\n",
       "    <tr>\n",
       "      <th>7017</th>\n",
       "      <td>15334001</td>\n",
       "      <td>62667</td>\n",
       "      <td>2022</td>\n",
       "      <td>-33.906151</td>\n",
       "      <td>151.040207</td>\n",
       "    </tr>\n",
       "  </tbody>\n",
       "</table>\n",
       "<p>7018 rows × 5 columns</p>\n",
       "</div>"
      ],
      "text/plain": [
       "      station_key  traffic_count  year  wgs84_latitude  wgs84_longitude\n",
       "0           58593           9420  2006      -35.913952       145.706635\n",
       "1           58307           7724  2006      -35.708405       147.282913\n",
       "2           58316          37500  2006      -36.088005       147.036148\n",
       "3           56981         495948  2006      -33.929249       150.979050\n",
       "4           56392         281840  2006      -34.656460       150.854126\n",
       "...           ...            ...   ...             ...              ...\n",
       "7013     15334005         135136  2022      -32.906013       151.671356\n",
       "7014     15828011          25922  2022      -34.703720       150.016647\n",
       "7015        57440         427232  2022      -33.760658       151.079620\n",
       "7016     15934011          52742  2022      -33.616905       150.273621\n",
       "7017     15334001          62667  2022      -33.906151       151.040207\n",
       "\n",
       "[7018 rows x 5 columns]"
      ]
     },
     "execution_count": 2,
     "metadata": {},
     "output_type": "execute_result"
    }
   ],
   "source": [
    "import numpy as np\n",
    "import matplotlib.pyplot as plt\n",
    "import matplotlib\n",
    "import seaborn as sns\n",
    "import pandas as pd\n",
    "\n",
    "traffic_count = pd.read_csv(\"./data/All_traffic_count.csv\")"
   ]
  },
  {
   "cell_type": "code",
   "execution_count": 21,
   "metadata": {
    "pycharm": {
     "name": "#%%\n"
    }
   },
   "outputs": [
    {
     "data": {
      "text/plain": [
       "([706376,\n",
       "  725910,\n",
       "  727886,\n",
       "  718190,\n",
       "  733012,\n",
       "  727702,\n",
       "  721412,\n",
       "  727938,\n",
       "  704432,\n",
       "  754342,\n",
       "  742866,\n",
       "  744042,\n",
       "  187889,\n",
       "  194280,\n",
       "  161084,\n",
       "  133322,\n",
       "  138876],\n",
       " [2006,\n",
       "  2007,\n",
       "  2008,\n",
       "  2009,\n",
       "  2010,\n",
       "  2011,\n",
       "  2012,\n",
       "  2013,\n",
       "  2014,\n",
       "  2015,\n",
       "  2016,\n",
       "  2017,\n",
       "  2018,\n",
       "  2019,\n",
       "  2020,\n",
       "  2021,\n",
       "  2022])"
      ]
     },
     "execution_count": 21,
     "metadata": {},
     "output_type": "execute_result"
    }
   ],
   "source": [
    "y_55306 = traffic_count[traffic_count['station_key']==55306].traffic_count.tolist()\n",
    "x_55306 = [x for x in range (2006,2006+len(y_55306)) ]\n",
    "y_55306,x_55306"
   ]
  },
  {
   "cell_type": "code",
   "execution_count": 23,
   "metadata": {
    "pycharm": {
     "name": "#%%\n"
    }
   },
   "outputs": [
    {
     "data": {
      "text/plain": [
       "([387722,\n",
       "  378310,\n",
       "  372920,\n",
       "  346858,\n",
       "  344562,\n",
       "  346826,\n",
       "  344124,\n",
       "  352104,\n",
       "  354518,\n",
       "  357384,\n",
       "  333570,\n",
       "  97292,\n",
       "  93529,\n",
       "  353774,\n",
       "  274570,\n",
       "  234908,\n",
       "  295094],\n",
       " [2006,\n",
       "  2007,\n",
       "  2008,\n",
       "  2009,\n",
       "  2010,\n",
       "  2011,\n",
       "  2012,\n",
       "  2013,\n",
       "  2014,\n",
       "  2015,\n",
       "  2016,\n",
       "  2017,\n",
       "  2018,\n",
       "  2019,\n",
       "  2020,\n",
       "  2021,\n",
       "  2022])"
      ]
     },
     "execution_count": 23,
     "metadata": {},
     "output_type": "execute_result"
    }
   ],
   "source": [
    "y_55307 = traffic_count[traffic_count['station_key']==55307].traffic_count.tolist()\n",
    "x_55307 = [x for x in range (2006,2006+len(y_55307)) ]\n",
    "y_55307,x_55307\n"
   ]
  },
  {
   "cell_type": "code",
   "execution_count": 1,
   "metadata": {
    "pycharm": {
     "name": "#%%\n"
    }
   },
   "outputs": [
    {
     "ename": "NameError",
     "evalue": "name 'traffic_count' is not defined",
     "output_type": "error",
     "traceback": [
      "\u001B[1;31m---------------------------------------------------------------------------\u001B[0m",
      "\u001B[1;31mNameError\u001B[0m                                 Traceback (most recent call last)",
      "Input \u001B[1;32mIn [1]\u001B[0m, in \u001B[0;36m<cell line: 1>\u001B[1;34m()\u001B[0m\n\u001B[1;32m----> 1\u001B[0m y_55329 \u001B[38;5;241m=\u001B[39m \u001B[43mtraffic_count\u001B[49m[traffic_count[\u001B[38;5;124m'\u001B[39m\u001B[38;5;124mstation_key\u001B[39m\u001B[38;5;124m'\u001B[39m]\u001B[38;5;241m==\u001B[39m\u001B[38;5;241m55329\u001B[39m]\u001B[38;5;241m.\u001B[39mtraffic_count\u001B[38;5;241m.\u001B[39mtolist()\n\u001B[0;32m      2\u001B[0m x_55329 \u001B[38;5;241m=\u001B[39m [x \u001B[38;5;28;01mfor\u001B[39;00m x \u001B[38;5;129;01min\u001B[39;00m \u001B[38;5;28mrange\u001B[39m (\u001B[38;5;241m2006\u001B[39m,\u001B[38;5;241m2006\u001B[39m\u001B[38;5;241m+\u001B[39m\u001B[38;5;28mlen\u001B[39m(y_55329)) ]\n\u001B[0;32m      3\u001B[0m y_55329,x_55329\n",
      "\u001B[1;31mNameError\u001B[0m: name 'traffic_count' is not defined"
     ]
    }
   ],
   "source": [
    "y_55329 = traffic_count[traffic_count['station_key']==55329].traffic_count.tolist()\n",
    "x_55329 = [x for x in range (2006,2006+len(y_55329)) ]\n",
    "y_55329,x_55329"
   ]
  },
  {
   "cell_type": "code",
   "execution_count": 31,
   "metadata": {
    "pycharm": {
     "name": "#%%\n"
    }
   },
   "outputs": [
    {
     "data": {
      "image/png": "[encoded data removed]",
      "text/plain": [
       "<Figure size 1000x800 with 1 Axes>"
      ]
     },
     "metadata": {
      "needs_background": "light"
     },
     "output_type": "display_data"
    }
   ],
   "source": [
    "# Plot\n",
    "plt.rcParams.update({'figure.figsize':(10,8), 'figure.dpi':100})\n",
    "plt.scatter(x_55306, y_55306, label='Station 55306')\n",
    "plt.scatter(x_55307, y_55307, label='Station 55307')\n",
    "plt.scatter(x_55329, y_55329, label='Station 55329')\n",
    "\n",
    "# Plot\n",
    "plt.title('Top 3 Station Traffic Count Trends')\n",
    "plt.legend()\n",
    "plt.show()"
   ]
  }
 ],
 "metadata": {
  "kernelspec": {
   "display_name": "Python 3 (ipykernel)",
   "language": "python",
   "name": "python3"
  },
  "language_info": {
   "codemirror_mode": {
    "name": "ipython",
    "version": 3
   },
   "file_extension": ".py",
   "mimetype": "text/x-python",
   "name": "python",
   "nbconvert_exporter": "python",
   "pygments_lexer": "ipython3",
   "version": "3.8.6"
  }
 },
 "nbformat": 4,
 "nbformat_minor": 1
}